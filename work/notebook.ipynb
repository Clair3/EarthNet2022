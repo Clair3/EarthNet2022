{
 "cells": [
  {
   "cell_type": "code",
   "execution_count": 1,
   "metadata": {},
   "outputs": [],
   "source": [
    "from pathlib import Path\n",
    "import xarray as xr\n",
    "import numpy as np"
   ]
  },
  {
   "cell_type": "code",
   "execution_count": 2,
   "metadata": {},
   "outputs": [],
   "source": [
    "basepath = Path(\"/workspace/data/africa_v0.3/train/\")\n",
    "\n",
    "minicube_paths = list(basepath.glob(\"*/*.nc\"))\n",
    "\n",
    "minicube = xr.open_dataset(minicube_paths[3])"
   ]
  },
  {
   "cell_type": "code",
   "execution_count": 13,
   "metadata": {},
   "outputs": [
    {
     "name": "stdout",
     "output_type": "stream",
     "text": [
      "<class 'xarray.core.dataarray.DataArray'> (450,)\n",
      "[  4   9  14  19  24  29  34  39  44  49  54  59  64  69  74  79  84  89\n",
      "  94  99 104 109 114 119 124 129 134 139 144 149 154 159 164 169 174 179\n",
      " 184 189 194 199 204 209 214 219 224 229 234 239 244 249 254 259 264 269\n",
      " 274 279 284 289 294 299 304 309 314 319 324 329 334 339 344 349 354 359\n",
      " 364 369 374 379 384 389 394 399 404 409 414 419 424 429 434 439 444 449]\n",
      "[0 0 0 0 0 0 0 0 0 0 0 0 0 0 0 0 0 0 0 0 0 0 0 0 0 0 0 0 0 0 0 0 0 0 0 0 0\n",
      " 0 0 0 0 0 0 0 0 0 0 0 0 0 0 0 0 0 0 0 0 0 0 0 0 0 0 0 0 0 0 0 0 0 0 0 0 0\n",
      " 0 0 0 0 0 0 0 0 0 0 0 0 0 0 0]\n"
     ]
    },
    {
     "ename": "ValueError",
     "evalue": "operands could not be broadcast together with shapes (90,) (89,) ",
     "output_type": "error",
     "traceback": [
      "\u001b[0;31m---------------------------------------------------------------------------\u001b[0m",
      "\u001b[0;31mValueError\u001b[0m                                Traceback (most recent call last)",
      "\u001b[0;32m/tmp/ipykernel_60257/1023325568.py\u001b[0m in \u001b[0;36m<module>\u001b[0;34m\u001b[0m\n\u001b[1;32m      5\u001b[0m \u001b[0mprint\u001b[0m\u001b[0;34m(\u001b[0m\u001b[0mindex_avail\u001b[0m\u001b[0;34m[\u001b[0m\u001b[0;36m1\u001b[0m\u001b[0;34m:\u001b[0m\u001b[0;34m]\u001b[0m \u001b[0;34m-\u001b[0m \u001b[0mindex_avail\u001b[0m\u001b[0;34m[\u001b[0m\u001b[0;34m:\u001b[0m\u001b[0;34m-\u001b[0m\u001b[0;36m1\u001b[0m\u001b[0;34m]\u001b[0m \u001b[0;34m-\u001b[0m \u001b[0;36m5\u001b[0m\u001b[0;34m)\u001b[0m\u001b[0;34m\u001b[0m\u001b[0;34m\u001b[0m\u001b[0m\n\u001b[1;32m      6\u001b[0m \u001b[0mA\u001b[0m \u001b[0;34m=\u001b[0m \u001b[0mindex_avail\u001b[0m\u001b[0;34m[\u001b[0m\u001b[0;36m1\u001b[0m\u001b[0;34m:\u001b[0m\u001b[0;34m]\u001b[0m \u001b[0;34m-\u001b[0m \u001b[0mindex_avail\u001b[0m\u001b[0;34m[\u001b[0m\u001b[0;34m:\u001b[0m\u001b[0;34m-\u001b[0m\u001b[0;36m1\u001b[0m\u001b[0;34m]\u001b[0m \u001b[0;34m-\u001b[0m \u001b[0;36m5\u001b[0m\u001b[0;34m\u001b[0m\u001b[0;34m\u001b[0m\u001b[0m\n\u001b[0;32m----> 7\u001b[0;31m \u001b[0mC\u001b[0m \u001b[0;34m=\u001b[0m \u001b[0mindex_avail\u001b[0m \u001b[0;34m+\u001b[0m \u001b[0mA\u001b[0m\u001b[0;34m\u001b[0m\u001b[0;34m\u001b[0m\u001b[0m\n\u001b[0m\u001b[1;32m      8\u001b[0m \u001b[0mprint\u001b[0m\u001b[0;34m(\u001b[0m\u001b[0mnp\u001b[0m\u001b[0;34m.\u001b[0m\u001b[0mwhere\u001b[0m\u001b[0;34m(\u001b[0m\u001b[0mA\u001b[0m \u001b[0;34m>\u001b[0m \u001b[0;36m0\u001b[0m\u001b[0;34m)\u001b[0m\u001b[0;34m[\u001b[0m\u001b[0;36m0\u001b[0m\u001b[0;34m]\u001b[0m\u001b[0;34m)\u001b[0m\u001b[0;34m\u001b[0m\u001b[0;34m\u001b[0m\u001b[0m\n",
      "\u001b[0;31mValueError\u001b[0m: operands could not be broadcast together with shapes (90,) (89,) "
     ]
    }
   ],
   "source": [
    "s2_avail = minicube.s2_avail\n",
    "print(type(s2_avail), s2_avail.shape)\n",
    "index_avail = np.where(s2_avail == 1)[0]\n",
    "print(index_avail)\n",
    "print(index_avail[1:] - index_avail[:-1] - 5)\n",
    "A = index_avail[1:] - index_avail[:-1] - 5\n",
    "C = index_avail + A\n",
    "print(np.where(A > 0)[0])"
   ]
  },
  {
   "cell_type": "code",
   "execution_count": 6,
   "metadata": {},
   "outputs": [
    {
     "name": "stdout",
     "output_type": "stream",
     "text": [
      "<xarray.DataArray 's2_avail' (time: 450)>\n",
      "[450 values with dtype=float32]\n",
      "Coordinates:\n",
      "  * time     (time) datetime64[ns] 2019-01-16 2019-01-17 ... 2020-04-09\n",
      "Attributes:\n",
      "    coordinates:  sentinel:product_id\n",
      "<xarray.DataArray 's2_avail' (time: 90)>\n",
      "[90 values with dtype=float32]\n",
      "Coordinates:\n",
      "  * time     (time) datetime64[ns] 2019-01-20 2019-01-25 ... 2020-04-09\n",
      "Attributes:\n",
      "    coordinates:  sentinel:product_id\n"
     ]
    }
   ],
   "source": [
    "s2_avail = minicube.s2_avail\n",
    "time = np.array([i for i in range(4, len(s2_avail), 5)])\n",
    "\n",
    "\n",
    "# Select the days with available data\n",
    "time = np.array([i for i in range(4, len(s2_avail), 5)])\n",
    "print(s2_avail)\n",
    "s2_avail = s2_avail.isel(time=time)\n",
    "print(s2_avail)"
   ]
  },
  {
   "cell_type": "code",
   "execution_count": 21,
   "metadata": {},
   "outputs": [
    {
     "name": "stdout",
     "output_type": "stream",
     "text": [
      "4\n"
     ]
    }
   ],
   "source": [
    "        # Detect the missing day\n",
    "        # Index of the availables days\n",
    "        index_avail = np.where(s2_avail == 1)[0]\n",
    "        missing = index_avail[1:] - index_avail[:-1] - 5\n",
    "        # index of the missing days (due to cloud or other)\n",
    "        index_missing = np.where(missing > 0)[0]\n",
    "        if index_avail[0] % 5 != 4:\n",
    "            raise Exception(\"bad assumption on the data, first value s2 =\" + str(index_avail[0]))"
   ]
  }
 ],
 "metadata": {
  "kernelspec": {
   "display_name": "ENpt16py38",
   "language": "python",
   "name": "python3"
  },
  "language_info": {
   "codemirror_mode": {
    "name": "ipython",
    "version": 3
   },
   "file_extension": ".py",
   "mimetype": "text/x-python",
   "name": "python",
   "nbconvert_exporter": "python",
   "pygments_lexer": "ipython3",
   "version": "3.8.12"
  },
  "orig_nbformat": 4,
  "vscode": {
   "interpreter": {
    "hash": "d9f055cb184981ddb4b177ab30d20973bf70dcd8d93416be344cbcdc076284e1"
   }
  }
 },
 "nbformat": 4,
 "nbformat_minor": 2
}
